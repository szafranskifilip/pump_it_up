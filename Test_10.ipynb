{
 "cells": [
  {
   "cell_type": "markdown",
   "metadata": {},
   "source": [
    "# Pump it Up: Data Mining the Water Table"
   ]
  },
  {
   "cell_type": "markdown",
   "metadata": {},
   "source": [
    "## Introduction"
   ]
  },
  {
   "cell_type": "markdown",
   "metadata": {},
   "source": [
    "Using data from Taarifa and the Tanzanian Ministry of Water, can you predict which pumps are functional, which need some repairs, and which don't work at all? This is an intermediate-level practice competition. Predict one of these three classes based on a number of variables about what kind of pump is operating, when it was installed, and how it is managed. A smart understanding of which waterpoints will fail can improve maintenance operations and ensure that clean, potable water is available to communities across Tanzania."
   ]
  },
  {
   "cell_type": "markdown",
   "metadata": {},
   "source": [
    "## Objectives\n",
    "- create a classifier\n",
    "- clasify faulty pumps"
   ]
  },
  {
   "cell_type": "markdown",
   "metadata": {},
   "source": [
    "## Tabel of contents\n",
    "\n",
    "1. Problem Description\n",
    "1. Import Datra\n",
    "2. Data Analysis\n",
    "    - 2.1 X_train & y_train info"
   ]
  },
  {
   "cell_type": "markdown",
   "metadata": {},
   "source": [
    "## 1. Import Data\n",
    "- import all the necessary classes, functions, and packages"
   ]
  },
  {
   "cell_type": "code",
   "execution_count": 2,
   "metadata": {},
   "outputs": [
    {
     "name": "stderr",
     "output_type": "stream",
     "text": [
      "/Users/Filip/opt/anaconda3/envs/learn-env/lib/python3.6/site-packages/statsmodels/tools/_testing.py:19: FutureWarning: pandas.util.testing is deprecated. Use the functions in the public API at pandas.testing instead.\n",
      "  import pandas.util.testing as tm\n"
     ]
    }
   ],
   "source": [
    "# Import libraries\n",
    "import pandas as pd\n",
    "import numpy as np\n",
    "import pickle\n",
    "import category_encoders as ce\n",
    "\n",
    "from sklearn.preprocessing import StandardScaler\n",
    "from sklearn.neighbors import KNeighborsClassifier\n",
    "from sklearn.model_selection import train_test_split, GridSearchCV, cross_val_score\n",
    "from sklearn.model_selection import KFold, StratifiedKFold\n",
    "from sklearn.ensemble import RandomForestClassifier\n",
    "from sklearn.pipeline import Pipeline\n",
    "from sklearn.metrics import accuracy_score, confusion_matrix, classification_report, make_scorer\n",
    "import matplotlib.pyplot as plt\n",
    "import seaborn as sns\n",
    "%matplotlib inline\n",
    "\n",
    "import xgboost as xgb\n",
    "\n",
    "import warnings\n",
    "warnings.filterwarnings('ignore')"
   ]
  },
  {
   "cell_type": "code",
   "execution_count": 3,
   "metadata": {},
   "outputs": [],
   "source": [
    "# Load and split preprocessed data into X and y\n",
    "with open('X_processed.pickle', 'rb') as f:\n",
    "    X = pickle.load(f)\n",
    "    \n",
    "df_labels = pd.read_csv('Water_Table_Training_set_labels.csv')\n",
    "y = df_labels.drop('id', axis=1)\n",
    "y.columns = ['target']"
   ]
  },
  {
   "cell_type": "code",
   "execution_count": 4,
   "metadata": {},
   "outputs": [
    {
     "data": {
      "image/png": "[encoded data removed]",
      "text/plain": [
       "<Figure size 432x288 with 1 Axes>"
      ]
     },
     "metadata": {
      "needs_background": "light"
     },
     "output_type": "display_data"
    }
   ],
   "source": [
    "sns.countplot(y['target']);"
   ]
  },
  {
   "cell_type": "code",
   "execution_count": 5,
   "metadata": {},
   "outputs": [
    {
     "data": {
      "text/html": [
       "<div>\n",
       "<style scoped>\n",
       "    .dataframe tbody tr th:only-of-type {\n",
       "        vertical-align: middle;\n",
       "    }\n",
       "\n",
       "    .dataframe tbody tr th {\n",
       "        vertical-align: top;\n",
       "    }\n",
       "\n",
       "    .dataframe thead th {\n",
       "        text-align: right;\n",
       "    }\n",
       "</style>\n",
       "<table border=\"1\" class=\"dataframe\">\n",
       "  <thead>\n",
       "    <tr style=\"text-align: right;\">\n",
       "      <th></th>\n",
       "      <th>NaN count</th>\n",
       "      <th>Zero values count</th>\n",
       "      <th>Unique_val count</th>\n",
       "      <th>Data type</th>\n",
       "    </tr>\n",
       "  </thead>\n",
       "  <tbody>\n",
       "    <tr>\n",
       "      <th>amount_tsh</th>\n",
       "      <td>0</td>\n",
       "      <td>41639</td>\n",
       "      <td>98</td>\n",
       "      <td>float64</td>\n",
       "    </tr>\n",
       "    <tr>\n",
       "      <th>date_recorded</th>\n",
       "      <td>0</td>\n",
       "      <td>0</td>\n",
       "      <td>356</td>\n",
       "      <td>object</td>\n",
       "    </tr>\n",
       "    <tr>\n",
       "      <th>funder</th>\n",
       "      <td>3635</td>\n",
       "      <td>0</td>\n",
       "      <td>1898</td>\n",
       "      <td>object</td>\n",
       "    </tr>\n",
       "    <tr>\n",
       "      <th>gps_height</th>\n",
       "      <td>0</td>\n",
       "      <td>20438</td>\n",
       "      <td>2428</td>\n",
       "      <td>int64</td>\n",
       "    </tr>\n",
       "    <tr>\n",
       "      <th>installer</th>\n",
       "      <td>3655</td>\n",
       "      <td>0</td>\n",
       "      <td>2146</td>\n",
       "      <td>object</td>\n",
       "    </tr>\n",
       "    <tr>\n",
       "      <th>longitude</th>\n",
       "      <td>0</td>\n",
       "      <td>0</td>\n",
       "      <td>57583</td>\n",
       "      <td>float64</td>\n",
       "    </tr>\n",
       "    <tr>\n",
       "      <th>latitude</th>\n",
       "      <td>0</td>\n",
       "      <td>0</td>\n",
       "      <td>57583</td>\n",
       "      <td>float64</td>\n",
       "    </tr>\n",
       "    <tr>\n",
       "      <th>wpt_name</th>\n",
       "      <td>0</td>\n",
       "      <td>0</td>\n",
       "      <td>37400</td>\n",
       "      <td>object</td>\n",
       "    </tr>\n",
       "    <tr>\n",
       "      <th>num_private</th>\n",
       "      <td>0</td>\n",
       "      <td>58643</td>\n",
       "      <td>65</td>\n",
       "      <td>int64</td>\n",
       "    </tr>\n",
       "    <tr>\n",
       "      <th>basin</th>\n",
       "      <td>0</td>\n",
       "      <td>0</td>\n",
       "      <td>9</td>\n",
       "      <td>object</td>\n",
       "    </tr>\n",
       "    <tr>\n",
       "      <th>subvillage</th>\n",
       "      <td>371</td>\n",
       "      <td>0</td>\n",
       "      <td>19288</td>\n",
       "      <td>object</td>\n",
       "    </tr>\n",
       "    <tr>\n",
       "      <th>region</th>\n",
       "      <td>0</td>\n",
       "      <td>0</td>\n",
       "      <td>21</td>\n",
       "      <td>object</td>\n",
       "    </tr>\n",
       "    <tr>\n",
       "      <th>region_code</th>\n",
       "      <td>0</td>\n",
       "      <td>0</td>\n",
       "      <td>27</td>\n",
       "      <td>int64</td>\n",
       "    </tr>\n",
       "    <tr>\n",
       "      <th>district_code</th>\n",
       "      <td>0</td>\n",
       "      <td>23</td>\n",
       "      <td>20</td>\n",
       "      <td>int64</td>\n",
       "    </tr>\n",
       "    <tr>\n",
       "      <th>lga</th>\n",
       "      <td>0</td>\n",
       "      <td>0</td>\n",
       "      <td>125</td>\n",
       "      <td>object</td>\n",
       "    </tr>\n",
       "    <tr>\n",
       "      <th>ward</th>\n",
       "      <td>0</td>\n",
       "      <td>0</td>\n",
       "      <td>2092</td>\n",
       "      <td>object</td>\n",
       "    </tr>\n",
       "    <tr>\n",
       "      <th>population</th>\n",
       "      <td>0</td>\n",
       "      <td>21381</td>\n",
       "      <td>1049</td>\n",
       "      <td>int64</td>\n",
       "    </tr>\n",
       "    <tr>\n",
       "      <th>public_meeting</th>\n",
       "      <td>3334</td>\n",
       "      <td>5055</td>\n",
       "      <td>3</td>\n",
       "      <td>object</td>\n",
       "    </tr>\n",
       "    <tr>\n",
       "      <th>recorded_by</th>\n",
       "      <td>0</td>\n",
       "      <td>0</td>\n",
       "      <td>1</td>\n",
       "      <td>object</td>\n",
       "    </tr>\n",
       "    <tr>\n",
       "      <th>scheme_management</th>\n",
       "      <td>3877</td>\n",
       "      <td>0</td>\n",
       "      <td>13</td>\n",
       "      <td>object</td>\n",
       "    </tr>\n",
       "    <tr>\n",
       "      <th>scheme_name</th>\n",
       "      <td>28166</td>\n",
       "      <td>0</td>\n",
       "      <td>2697</td>\n",
       "      <td>object</td>\n",
       "    </tr>\n",
       "    <tr>\n",
       "      <th>permit</th>\n",
       "      <td>3056</td>\n",
       "      <td>17492</td>\n",
       "      <td>3</td>\n",
       "      <td>object</td>\n",
       "    </tr>\n",
       "    <tr>\n",
       "      <th>construction_year</th>\n",
       "      <td>0</td>\n",
       "      <td>20709</td>\n",
       "      <td>55</td>\n",
       "      <td>int64</td>\n",
       "    </tr>\n",
       "    <tr>\n",
       "      <th>extraction_type</th>\n",
       "      <td>0</td>\n",
       "      <td>0</td>\n",
       "      <td>18</td>\n",
       "      <td>object</td>\n",
       "    </tr>\n",
       "    <tr>\n",
       "      <th>extraction_type_group</th>\n",
       "      <td>0</td>\n",
       "      <td>0</td>\n",
       "      <td>13</td>\n",
       "      <td>object</td>\n",
       "    </tr>\n",
       "    <tr>\n",
       "      <th>extraction_type_class</th>\n",
       "      <td>0</td>\n",
       "      <td>0</td>\n",
       "      <td>7</td>\n",
       "      <td>object</td>\n",
       "    </tr>\n",
       "    <tr>\n",
       "      <th>management</th>\n",
       "      <td>0</td>\n",
       "      <td>0</td>\n",
       "      <td>12</td>\n",
       "      <td>object</td>\n",
       "    </tr>\n",
       "    <tr>\n",
       "      <th>management_group</th>\n",
       "      <td>0</td>\n",
       "      <td>0</td>\n",
       "      <td>5</td>\n",
       "      <td>object</td>\n",
       "    </tr>\n",
       "    <tr>\n",
       "      <th>payment</th>\n",
       "      <td>0</td>\n",
       "      <td>0</td>\n",
       "      <td>7</td>\n",
       "      <td>object</td>\n",
       "    </tr>\n",
       "    <tr>\n",
       "      <th>payment_type</th>\n",
       "      <td>0</td>\n",
       "      <td>0</td>\n",
       "      <td>7</td>\n",
       "      <td>object</td>\n",
       "    </tr>\n",
       "    <tr>\n",
       "      <th>water_quality</th>\n",
       "      <td>0</td>\n",
       "      <td>0</td>\n",
       "      <td>8</td>\n",
       "      <td>object</td>\n",
       "    </tr>\n",
       "    <tr>\n",
       "      <th>quality_group</th>\n",
       "      <td>0</td>\n",
       "      <td>0</td>\n",
       "      <td>6</td>\n",
       "      <td>object</td>\n",
       "    </tr>\n",
       "    <tr>\n",
       "      <th>quantity</th>\n",
       "      <td>0</td>\n",
       "      <td>0</td>\n",
       "      <td>5</td>\n",
       "      <td>object</td>\n",
       "    </tr>\n",
       "    <tr>\n",
       "      <th>quantity_group</th>\n",
       "      <td>0</td>\n",
       "      <td>0</td>\n",
       "      <td>5</td>\n",
       "      <td>object</td>\n",
       "    </tr>\n",
       "    <tr>\n",
       "      <th>source</th>\n",
       "      <td>0</td>\n",
       "      <td>0</td>\n",
       "      <td>10</td>\n",
       "      <td>object</td>\n",
       "    </tr>\n",
       "    <tr>\n",
       "      <th>source_type</th>\n",
       "      <td>0</td>\n",
       "      <td>0</td>\n",
       "      <td>7</td>\n",
       "      <td>object</td>\n",
       "    </tr>\n",
       "    <tr>\n",
       "      <th>source_class</th>\n",
       "      <td>0</td>\n",
       "      <td>0</td>\n",
       "      <td>3</td>\n",
       "      <td>object</td>\n",
       "    </tr>\n",
       "    <tr>\n",
       "      <th>waterpoint_type</th>\n",
       "      <td>0</td>\n",
       "      <td>0</td>\n",
       "      <td>7</td>\n",
       "      <td>object</td>\n",
       "    </tr>\n",
       "    <tr>\n",
       "      <th>waterpoint_type_group</th>\n",
       "      <td>0</td>\n",
       "      <td>0</td>\n",
       "      <td>6</td>\n",
       "      <td>object</td>\n",
       "    </tr>\n",
       "  </tbody>\n",
       "</table>\n",
       "</div>"
      ],
      "text/plain": [
       "                       NaN count  Zero values count  Unique_val count  \\\n",
       "amount_tsh                     0              41639                98   \n",
       "date_recorded                  0                  0               356   \n",
       "funder                      3635                  0              1898   \n",
       "gps_height                     0              20438              2428   \n",
       "installer                   3655                  0              2146   \n",
       "longitude                      0                  0             57583   \n",
       "latitude                       0                  0             57583   \n",
       "wpt_name                       0                  0             37400   \n",
       "num_private                    0              58643                65   \n",
       "basin                          0                  0                 9   \n",
       "subvillage                   371                  0             19288   \n",
       "region                         0                  0                21   \n",
       "region_code                    0                  0                27   \n",
       "district_code                  0                 23                20   \n",
       "lga                            0                  0               125   \n",
       "ward                           0                  0              2092   \n",
       "population                     0              21381              1049   \n",
       "public_meeting              3334               5055                 3   \n",
       "recorded_by                    0                  0                 1   \n",
       "scheme_management           3877                  0                13   \n",
       "scheme_name                28166                  0              2697   \n",
       "permit                      3056              17492                 3   \n",
       "construction_year              0              20709                55   \n",
       "extraction_type                0                  0                18   \n",
       "extraction_type_group          0                  0                13   \n",
       "extraction_type_class          0                  0                 7   \n",
       "management                     0                  0                12   \n",
       "management_group               0                  0                 5   \n",
       "payment                        0                  0                 7   \n",
       "payment_type                   0                  0                 7   \n",
       "water_quality                  0                  0                 8   \n",
       "quality_group                  0                  0                 6   \n",
       "quantity                       0                  0                 5   \n",
       "quantity_group                 0                  0                 5   \n",
       "source                         0                  0                10   \n",
       "source_type                    0                  0                 7   \n",
       "source_class                   0                  0                 3   \n",
       "waterpoint_type                0                  0                 7   \n",
       "waterpoint_type_group          0                  0                 6   \n",
       "\n",
       "                      Data type  \n",
       "amount_tsh              float64  \n",
       "date_recorded            object  \n",
       "funder                   object  \n",
       "gps_height                int64  \n",
       "installer                object  \n",
       "longitude               float64  \n",
       "latitude                float64  \n",
       "wpt_name                 object  \n",
       "num_private               int64  \n",
       "basin                    object  \n",
       "subvillage               object  \n",
       "region                   object  \n",
       "region_code               int64  \n",
       "district_code             int64  \n",
       "lga                      object  \n",
       "ward                     object  \n",
       "population                int64  \n",
       "public_meeting           object  \n",
       "recorded_by              object  \n",
       "scheme_management        object  \n",
       "scheme_name              object  \n",
       "permit                   object  \n",
       "construction_year         int64  \n",
       "extraction_type          object  \n",
       "extraction_type_group    object  \n",
       "extraction_type_class    object  \n",
       "management               object  \n",
       "management_group         object  \n",
       "payment                  object  \n",
       "payment_type             object  \n",
       "water_quality            object  \n",
       "quality_group            object  \n",
       "quantity                 object  \n",
       "quantity_group           object  \n",
       "source                   object  \n",
       "source_type              object  \n",
       "source_class             object  \n",
       "waterpoint_type          object  \n",
       "waterpoint_type_group    object  "
      ]
     },
     "execution_count": 5,
     "metadata": {},
     "output_type": "execute_result"
    }
   ],
   "source": [
    "# Create summary of Nan and unique values counts and data types\n",
    "X_info = pd.DataFrame(X.isna().sum(), columns=['NaN count'])\n",
    "\n",
    "unique_val = []\n",
    "types_val = []\n",
    "zero_val = []\n",
    "\n",
    "for column in X.columns:\n",
    "    unique = len(X[column].unique())\n",
    "    types = str(X[column].dtype)\n",
    "    zeros = len(X[X[column]==0])\n",
    "    \n",
    "    unique_val.append(unique)\n",
    "    types_val.append(types)\n",
    "    zero_val.append(zeros)\n",
    "\n",
    "X_info['Zero values count'] = zero_val\n",
    "X_info['Unique_val count'] = unique_val\n",
    "X_info['Data type'] = types_val\n",
    "\n",
    "X_info"
   ]
  },
  {
   "cell_type": "markdown",
   "metadata": {},
   "source": [
    "## Label Encode String Class Values"
   ]
  },
  {
   "cell_type": "code",
   "execution_count": 6,
   "metadata": {},
   "outputs": [
    {
     "data": {
      "text/plain": [
       "array(['functional', 'non functional', 'functional needs repair'],\n",
       "      dtype=object)"
      ]
     },
     "execution_count": 6,
     "metadata": {},
     "output_type": "execute_result"
    }
   ],
   "source": [
    "y['target'].unique()"
   ]
  },
  {
   "cell_type": "code",
   "execution_count": 7,
   "metadata": {},
   "outputs": [],
   "source": [
    "# Convert y labels\n",
    "y = y.replace({'target': {'functional' : 1, \n",
    "                                'non functional' : 0, \n",
    "                                'functional needs repair' : 2}})"
   ]
  },
  {
   "cell_type": "code",
   "execution_count": 8,
   "metadata": {},
   "outputs": [],
   "source": [
    "y['target'] = y['target'].astype(int)"
   ]
  },
  {
   "cell_type": "code",
   "execution_count": 9,
   "metadata": {},
   "outputs": [
    {
     "name": "stdout",
     "output_type": "stream",
     "text": [
      "<class 'pandas.core.frame.DataFrame'>\n",
      "RangeIndex: 59400 entries, 0 to 59399\n",
      "Data columns (total 1 columns):\n",
      " #   Column  Non-Null Count  Dtype\n",
      "---  ------  --------------  -----\n",
      " 0   target  59400 non-null  int64\n",
      "dtypes: int64(1)\n",
      "memory usage: 464.2 KB\n"
     ]
    }
   ],
   "source": [
    "y.info()"
   ]
  },
  {
   "cell_type": "markdown",
   "metadata": {},
   "source": [
    "## Multiclass Imbalance"
   ]
  },
  {
   "cell_type": "code",
   "execution_count": 10,
   "metadata": {},
   "outputs": [],
   "source": [
    "from sklearn.utils import class_weight\n",
    "\n",
    "classes_weights = class_weight.compute_sample_weight(\n",
    "    class_weight='balanced',\n",
    "    y=y['target']\n",
    ")\n",
    "\n",
    "# xgb_classifier.fit(X, y, sample_weight=classes_weights)"
   ]
  },
  {
   "cell_type": "code",
   "execution_count": 11,
   "metadata": {},
   "outputs": [
    {
     "data": {
      "text/plain": [
       "array([0.6137822 , 0.86750789, 4.58651842])"
      ]
     },
     "execution_count": 11,
     "metadata": {},
     "output_type": "execute_result"
    }
   ],
   "source": [
    "np.unique(classes_weights)"
   ]
  },
  {
   "cell_type": "markdown",
   "metadata": {},
   "source": [
    "## Target Encode Categorical Data"
   ]
  },
  {
   "cell_type": "code",
   "execution_count": 12,
   "metadata": {},
   "outputs": [],
   "source": [
    "# import category_encoders as ce\n",
    "# ce_poly = ce.PolynomialEncoder(cols = ['basin'])\n",
    "\n",
    "# # ce_target = ce.TargetEncoder(cols = ['basin'])\n",
    "# ce_poly.fit_transform(X, y).head().T"
   ]
  },
  {
   "cell_type": "code",
   "execution_count": 13,
   "metadata": {},
   "outputs": [],
   "source": [
    "def target_encode_multiclass(X,y): #X,y are pandas df and series\n",
    "    y=y.astype(str)   #convert to string to onehot encode\n",
    "    enc=ce.OneHotEncoder().fit(y)\n",
    "    y_onehot=enc.transform(y)\n",
    "    class_names=y_onehot.columns  #names of onehot encoded columns\n",
    "    X_obj=X.select_dtypes('object') #separate categorical columns\n",
    "    X=X.select_dtypes(exclude='object') \n",
    "  \n",
    "    for class_ in class_names:\n",
    "      \n",
    "        enc=ce.TargetEncoder()\n",
    "        enc.fit(X_obj,y_onehot[class_]) #convert all categorical \n",
    "        temp=enc.transform(X_obj)       #columns for class_\n",
    "        temp.columns=[str(x)+'_'+str(class_) for x in temp.columns]\n",
    "        X=pd.concat([X,X_obj,temp],axis=1)    #add to original dataset\n",
    "      \n",
    "    return X"
   ]
  },
  {
   "cell_type": "code",
   "execution_count": 14,
   "metadata": {},
   "outputs": [],
   "source": [
    "def target_encode_dict(X,y): #X,y are pandas df and series\n",
    "    y=y.astype(str)   #convert to string to onehot encode\n",
    "    enc=ce.OneHotEncoder().fit(y)\n",
    "    y_onehot=enc.transform(y)\n",
    "    class_names=y_onehot.columns  #names of onehot encoded columns\n",
    "    X_obj=X.select_dtypes('object') #separate categorical columns\n",
    "    X=X.select_dtypes(exclude='object') \n",
    "    X_1 = X_obj.copy()\n",
    "    cat_target_dict = {}\n",
    "    \n",
    "    for class_ in class_names:\n",
    "      \n",
    "        enc=ce.TargetEncoder()\n",
    "        enc.fit(X_obj,y_onehot[class_]) #convert all categorical \n",
    "        temp=enc.transform(X_obj)       #columns for class_\n",
    "        temp.columns=[str(x)+'_'+str(class_) for x in temp.columns]\n",
    "        X_1=pd.concat([X_1,temp],axis=1)    #add to original dataset\n",
    "        X=pd.concat([X,temp],axis=1)\n",
    "        \n",
    "    for column in X_obj.columns:\n",
    "        column_list=[column]\n",
    "        \n",
    "        for target in class_names:\n",
    "            column_list.append(str(column)+'_'+str(target))\n",
    "        \n",
    "        cat_targets_df = X_1[column_list]\n",
    "        cat_targets_df.drop_duplicates(subset = [column], inplace=True)\n",
    "        cat_targets_df.set_index(column, inplace=True)\n",
    "        dict_=cat_targets_df.to_dict()\n",
    "        cat_target_dict={**cat_target_dict, **dict_}\n",
    "      \n",
    "    return X, cat_target_dict"
   ]
  },
  {
   "cell_type": "code",
   "execution_count": 15,
   "metadata": {},
   "outputs": [],
   "source": [
    "#Add target encoding columns do dataframe\n",
    "def add_train_targets(X_test, y_train, target_encode_dict):\n",
    "    y=y_train.astype(str)   #convert to string to onehot encode\n",
    "    enc=ce.OneHotEncoder().fit(y)\n",
    "    y_onehot=enc.transform(y)\n",
    "    class_names=y_onehot.columns  #names of onehot encoded columns\n",
    "    X_obj=X_test.select_dtypes('object') #separate categorical columns\n",
    "    X=X_test.select_dtypes(exclude='object') \n",
    "    temp = pd.DataFrame()  \n",
    "    \n",
    "    for column in X_obj.columns:\n",
    "        for class_ in class_names:\n",
    "            temp[str(column)+'_'+str(class_)]=X_obj[column]\n",
    "            temp[str(column)+'_'+str(class_)]=temp[str(column)+'_'+str(class_)].map(target_encode_dict[str(column)+'_'+str(class_)])\n",
    "    \n",
    "    X_test=pd.concat([X, temp],axis=1)\n",
    "    X_test.fillna(0.33, inplace=True)\n",
    "    \n",
    "    return X_test"
   ]
  },
  {
   "cell_type": "code",
   "execution_count": 16,
   "metadata": {},
   "outputs": [],
   "source": [
    "def group_low_frequency_val(X, threshold=15, name='other'):\n",
    "    lowFreqVal_dict = {}\n",
    "    X_obj=X.select_dtypes('object')\n",
    "\n",
    "    for column in X_obj.columns:\n",
    "        lowFreqVal = X_obj[column].value_counts().to_frame()\n",
    "        lowFreqVal = lowFreqVal[lowFreqVal[column] < threshold]\n",
    "        lowFreqVal[column] = name\n",
    "        lowFreqVal = lowFreqVal.to_dict()\n",
    "        lowFreqVal_dict={**lowFreqVal_dict, **lowFreqVal}\n",
    "        \n",
    "    return lowFreqVal_dict"
   ]
  },
  {
   "cell_type": "code",
   "execution_count": 17,
   "metadata": {},
   "outputs": [],
   "source": [
    "def update_X_low_freq_val(X, dict_):\n",
    "    X_obj=X.select_dtypes('object')\n",
    "    \n",
    "    for column in X_obj.columns:\n",
    "        X[column]=X[column].replace(dict_[column])\n",
    "    \n",
    "    return X"
   ]
  },
  {
   "cell_type": "code",
   "execution_count": 18,
   "metadata": {},
   "outputs": [],
   "source": [
    "X[['region_code', 'district_code']] = X[['region_code', 'district_code']].astype(str)\n",
    "X.drop(columns=['date_recorded'], inplace=True)"
   ]
  },
  {
   "cell_type": "markdown",
   "metadata": {},
   "source": [
    "## Support for Missing Data"
   ]
  },
  {
   "cell_type": "code",
   "execution_count": 19,
   "metadata": {},
   "outputs": [],
   "source": [
    "# Replace all NaN elements with 0s.\n",
    "X.fillna(0, inplace=True)"
   ]
  },
  {
   "cell_type": "code",
   "execution_count": 20,
   "metadata": {},
   "outputs": [
    {
     "data": {
      "text/plain": [
       "Index(['funder', 'installer', 'wpt_name', 'basin', 'subvillage', 'region',\n",
       "       'region_code', 'district_code', 'lga', 'ward', 'public_meeting',\n",
       "       'recorded_by', 'scheme_management', 'scheme_name', 'permit',\n",
       "       'extraction_type', 'extraction_type_group', 'extraction_type_class',\n",
       "       'management', 'management_group', 'payment', 'payment_type',\n",
       "       'water_quality', 'quality_group', 'quantity', 'quantity_group',\n",
       "       'source', 'source_type', 'source_class', 'waterpoint_type',\n",
       "       'waterpoint_type_group'],\n",
       "      dtype='object')"
      ]
     },
     "execution_count": 20,
     "metadata": {},
     "output_type": "execute_result"
    }
   ],
   "source": [
    "X.select_dtypes('object').columns"
   ]
  },
  {
   "cell_type": "markdown",
   "metadata": {},
   "source": [
    "## Train the XGBoost Model"
   ]
  },
  {
   "cell_type": "code",
   "execution_count": 25,
   "metadata": {},
   "outputs": [],
   "source": [
    "def data_processing(X, y, threshold=10):\n",
    "    # Split data into train and test sets\n",
    "    X_train, X_test, y_train, y_test = train_test_split(X, y, test_size=0.25, random_state=42)\n",
    "    #Check for number of unique keys for column after applying threshold\n",
    "    low_frequency_val_train = group_low_frequency_val(X_train, threshold)\n",
    "    #Group low frequency values to 'other' category for each column\n",
    "    X_train = update_X_low_freq_val(X_train, low_frequency_val_train)\n",
    "    \n",
    "    X_train, target_dict = target_encode_dict(X_train, y_train)\n",
    "    X_test = update_X_low_freq_val(X_test, low_frequency_val_train)\n",
    "    X_test = add_train_targets(X_test, y, target_dict)\n",
    "    X_test.fillna(0, inplace=True)\n",
    "    X_train.sort_index(axis=1, inplace=True)\n",
    "    X_test.sort_index(axis=1,inplace=True)\n",
    "    \n",
    "    # Scale data\n",
    "    scaler = StandardScaler()\n",
    "    # Transform the training and test sets\n",
    "    scaled_data_train = scaler.fit_transform(X_train) #fit calculates mean and variance\n",
    "    scaled_data_test = scaler.transform(X_test)\n",
    "    # Convert into a DataFrame\n",
    "    scaled_X_train = pd.DataFrame(scaled_data_train, columns=X_train.columns)\n",
    "    scaled_X_train\n",
    "    \n",
    "    # This will transform the selected columns and merge to the original data frame\n",
    "    scaled_X_test = pd.DataFrame(scaled_data_test, columns=X_test.columns)\n",
    "    scaled_X_test\n",
    "    \n",
    "    return scaled_X_train, scaled_X_test, y_train, y_test"
   ]
  },
  {
   "cell_type": "code",
   "execution_count": 27,
   "metadata": {},
   "outputs": [
    {
     "name": "stdout",
     "output_type": "stream",
     "text": [
      "threshold:  3\n",
      "-----------------------\n",
      "Training Accuracy: 84.97%\n",
      "Validation accuracy: 72.01%\n",
      "\n",
      "threshold:  6\n",
      "-----------------------\n",
      "Training Accuracy: 82.84%\n",
      "Validation accuracy: 71.99%\n",
      "\n",
      "threshold:  10\n",
      "-----------------------\n",
      "Training Accuracy: 82.11%\n",
      "Validation accuracy: 75.63%\n",
      "\n",
      "threshold:  15\n",
      "-----------------------\n",
      "Training Accuracy: 81.52%\n",
      "Validation accuracy: 74.03%\n",
      "\n",
      "threshold:  20\n",
      "-----------------------\n",
      "Training Accuracy: 81.66%\n",
      "Validation accuracy: 74.26%\n",
      "\n",
      "threshold:  25\n",
      "-----------------------\n",
      "Training Accuracy: 81.42%\n",
      "Validation accuracy: 74.26%\n",
      "\n",
      "threshold:  30\n",
      "-----------------------\n",
      "Training Accuracy: 81.37%\n",
      "Validation accuracy: 72.88%\n",
      "\n",
      "threshold:  40\n",
      "-----------------------\n",
      "Training Accuracy: 81.19%\n",
      "Validation accuracy: 75.66%\n",
      "\n"
     ]
    }
   ],
   "source": [
    "threshold_list = [3,6,10,15,20,25,30,40]\n",
    "\n",
    "for threshold in threshold_list:\n",
    "\n",
    "    scaled_X_train, scaled_X_test, y_train, y_test = data_processing(X, y, threshold)\n",
    "    clf = xgb.XGBClassifier(learning_rate = 0.6, \n",
    "                            min_child_weight = 1,\n",
    "                            gamma = 4, \n",
    "                            n_estimators = 250,\n",
    "                            subsample = 0.9,\n",
    "                            objective = 'multi:softmax',\n",
    "                            reg_lambda = 1)\n",
    "\n",
    "    clf.fit(scaled_X_train, y_train, sample_weight=classes_weights)\n",
    "    training_preds = clf.predict(scaled_X_train)\n",
    "    val_preds = clf.predict(scaled_X_test)\n",
    "    training_accuracy = accuracy_score(y_train, training_preds)\n",
    "    val_accuracy = accuracy_score(y_test, val_preds)\n",
    "\n",
    "    print('threshold: ', threshold)\n",
    "    print('-----------------------')\n",
    "    print(\"Training Accuracy: {:.4}%\".format(training_accuracy * 100))\n",
    "    print(\"Validation accuracy: {:.4}%\".format(val_accuracy * 100))\n",
    "    print('')"
   ]
  },
  {
   "cell_type": "code",
   "execution_count": 28,
   "metadata": {},
   "outputs": [
    {
     "name": "stdout",
     "output_type": "stream",
     "text": [
      "threshold:  50\n",
      "-----------------------\n",
      "Training Accuracy: 81.08%\n",
      "Validation accuracy: 75.48%\n",
      "\n",
      "threshold:  70\n",
      "-----------------------\n",
      "Training Accuracy: 81.06%\n",
      "Validation accuracy: 75.74%\n",
      "\n",
      "threshold:  100\n",
      "-----------------------\n",
      "Training Accuracy: 81.23%\n",
      "Validation accuracy: 76.17%\n",
      "\n"
     ]
    }
   ],
   "source": [
    "threshold_list = [50,70, 100]\n",
    "\n",
    "for threshold in threshold_list:\n",
    "\n",
    "    scaled_X_train, scaled_X_test, y_train, y_test = data_processing(X, y, threshold)\n",
    "    clf = xgb.XGBClassifier(learning_rate = 0.6, \n",
    "                            min_child_weight = 1,\n",
    "                            gamma = 4, \n",
    "                            n_estimators = 250,\n",
    "                            subsample = 0.9,\n",
    "                            objective = 'multi:softmax',\n",
    "                            reg_lambda = 1)\n",
    "\n",
    "    clf.fit(scaled_X_train, y_train, sample_weight=classes_weights)\n",
    "    training_preds = clf.predict(scaled_X_train)\n",
    "    val_preds = clf.predict(scaled_X_test)\n",
    "    training_accuracy = accuracy_score(y_train, training_preds)\n",
    "    val_accuracy = accuracy_score(y_test, val_preds)\n",
    "\n",
    "    print('threshold: ', threshold)\n",
    "    print('-----------------------')\n",
    "    print(\"Training Accuracy: {:.4}%\".format(training_accuracy * 100))\n",
    "    print(\"Validation accuracy: {:.4}%\".format(val_accuracy * 100))\n",
    "    print('')"
   ]
  },
  {
   "cell_type": "code",
   "execution_count": 29,
   "metadata": {},
   "outputs": [
    {
     "name": "stdout",
     "output_type": "stream",
     "text": [
      "threshold:  150\n",
      "-----------------------\n",
      "Training Accuracy: 80.91%\n",
      "Validation accuracy: 77.14%\n",
      "\n",
      "threshold:  200\n",
      "-----------------------\n",
      "Training Accuracy: 81.14%\n",
      "Validation accuracy: 77.52%\n",
      "\n",
      "threshold:  300\n",
      "-----------------------\n",
      "Training Accuracy: 81.07%\n",
      "Validation accuracy: 78.16%\n",
      "\n"
     ]
    }
   ],
   "source": [
    "threshold_list = [150,200,300]\n",
    "\n",
    "for threshold in threshold_list:\n",
    "\n",
    "    scaled_X_train, scaled_X_test, y_train, y_test = data_processing(X, y, threshold)\n",
    "    clf = xgb.XGBClassifier(learning_rate = 0.6, \n",
    "                            min_child_weight = 1,\n",
    "                            gamma = 4, \n",
    "                            n_estimators = 250,\n",
    "                            subsample = 0.9,\n",
    "                            objective = 'multi:softmax',\n",
    "                            reg_lambda = 1)\n",
    "\n",
    "    clf.fit(scaled_X_train, y_train, sample_weight=classes_weights)\n",
    "    training_preds = clf.predict(scaled_X_train)\n",
    "    val_preds = clf.predict(scaled_X_test)\n",
    "    training_accuracy = accuracy_score(y_train, training_preds)\n",
    "    val_accuracy = accuracy_score(y_test, val_preds)\n",
    "\n",
    "    print('threshold: ', threshold)\n",
    "    print('-----------------------')\n",
    "    print(\"Training Accuracy: {:.4}%\".format(training_accuracy * 100))\n",
    "    print(\"Validation accuracy: {:.4}%\".format(val_accuracy * 100))\n",
    "    print('')"
   ]
  },
  {
   "cell_type": "code",
   "execution_count": 30,
   "metadata": {},
   "outputs": [
    {
     "name": "stdout",
     "output_type": "stream",
     "text": [
      "threshold:  350\n",
      "-----------------------\n",
      "Training Accuracy: 80.88%\n",
      "Validation accuracy: 78.3%\n",
      "\n",
      "threshold:  400\n",
      "-----------------------\n",
      "Training Accuracy: 80.87%\n",
      "Validation accuracy: 78.11%\n",
      "\n",
      "threshold:  500\n",
      "-----------------------\n",
      "Training Accuracy: 80.77%\n",
      "Validation accuracy: 78.0%\n",
      "\n"
     ]
    }
   ],
   "source": [
    "threshold_list = [350,400,500]\n",
    "\n",
    "for threshold in threshold_list:\n",
    "\n",
    "    scaled_X_train, scaled_X_test, y_train, y_test = data_processing(X, y, threshold)\n",
    "    clf = xgb.XGBClassifier(learning_rate = 0.6, \n",
    "                            min_child_weight = 1,\n",
    "                            gamma = 4, \n",
    "                            n_estimators = 250,\n",
    "                            subsample = 0.9,\n",
    "                            objective = 'multi:softmax',\n",
    "                            reg_lambda = 1)\n",
    "\n",
    "    clf.fit(scaled_X_train, y_train, sample_weight=classes_weights)\n",
    "    training_preds = clf.predict(scaled_X_train)\n",
    "    val_preds = clf.predict(scaled_X_test)\n",
    "    training_accuracy = accuracy_score(y_train, training_preds)\n",
    "    val_accuracy = accuracy_score(y_test, val_preds)\n",
    "\n",
    "    print('threshold: ', threshold)\n",
    "    print('-----------------------')\n",
    "    print(\"Training Accuracy: {:.4}%\".format(training_accuracy * 100))\n",
    "    print(\"Validation accuracy: {:.4}%\".format(val_accuracy * 100))\n",
    "    print('')"
   ]
  },
  {
   "cell_type": "code",
   "execution_count": 1010,
   "metadata": {},
   "outputs": [
    {
     "name": "stdout",
     "output_type": "stream",
     "text": [
      "1278\n"
     ]
    }
   ],
   "source": [
    "#Check for number of unique keys for column after applying threshold\n",
    "low_frequency_val_train = group_low_frequency_val(X_train, threshold=10)\n",
    "print(len(low_frequency_val_train['funder'].keys()))"
   ]
  },
  {
   "cell_type": "code",
   "execution_count": null,
   "metadata": {},
   "outputs": [],
   "source": [
    "threshold_list = [3,6,10,15,20,25,30,40,50]\n",
    "\n",
    "for threshold in threshold_list:\n",
    "    data_processing(X, y, threshold=10)\n",
    "    \n"
   ]
  },
  {
   "cell_type": "code",
   "execution_count": 1022,
   "metadata": {},
   "outputs": [
    {
     "name": "stdout",
     "output_type": "stream",
     "text": [
      "Training Accuracy: 82.11%\n",
      "Validation accuracy: 75.63%\n"
     ]
    }
   ],
   "source": [
    "# threshold=10\n",
    "clf = xgb.XGBClassifier(learning_rate = 0.6, \n",
    "                        min_child_weight = 1,\n",
    "                        gamma = 4, \n",
    "                        n_estimators = 250,\n",
    "                        subsample = 0.9,\n",
    "                        objective = 'multi:softmax',\n",
    "                        reg_lambda = 1)\n",
    "\n",
    "clf.fit(scaled_X_train, y_train, sample_weight=classes_weights)\n",
    "training_preds = clf.predict(scaled_X_train)\n",
    "val_preds = clf.predict(scaled_X_test)\n",
    "training_accuracy = accuracy_score(y_train, training_preds)\n",
    "val_accuracy = accuracy_score(y_test, val_preds)\n",
    "\n",
    "print(\"Training Accuracy: {:.4}%\".format(training_accuracy * 100))\n",
    "print(\"Validation accuracy: {:.4}%\".format(val_accuracy * 100))\n",
    "\n",
    "# Training Accuracy: 81.52%\n",
    "# Validation accuracy: 76.69%"
   ]
  },
  {
   "cell_type": "code",
   "execution_count": 812,
   "metadata": {},
   "outputs": [
    {
     "name": "stdout",
     "output_type": "stream",
     "text": [
      "Training Accuracy: 81.52%\n",
      "Validation accuracy: 76.69%\n"
     ]
    }
   ],
   "source": [
    "# threshold=15\n",
    "clf = xgb.XGBClassifier(learning_rate = 0.6, \n",
    "                        min_child_weight = 1,\n",
    "                        gamma = 4, \n",
    "                        n_estimators = 250,\n",
    "                        subsample = 0.9,\n",
    "                        objective = 'multi:softmax',\n",
    "                        reg_lambda = 1)\n",
    "\n",
    "clf.fit(scaled_X_train, y_train, sample_weight=classes_weights)\n",
    "training_preds = clf.predict(scaled_X_train)\n",
    "val_preds = clf.predict(scaled_X_test)\n",
    "training_accuracy = accuracy_score(y_train, training_preds)\n",
    "val_accuracy = accuracy_score(y_test, val_preds)\n",
    "\n",
    "print(\"Training Accuracy: {:.4}%\".format(training_accuracy * 100))\n",
    "print(\"Validation accuracy: {:.4}%\".format(val_accuracy * 100))\n",
    "\n",
    "# Training Accuracy: 81.52%\n",
    "# Validation accuracy: 76.69%"
   ]
  },
  {
   "cell_type": "code",
   "execution_count": 1008,
   "metadata": {},
   "outputs": [
    {
     "name": "stdout",
     "output_type": "stream",
     "text": [
      "Training Accuracy: 81.37%\n",
      "Validation accuracy: 72.88%\n"
     ]
    }
   ],
   "source": [
    "#  threshold=30\n",
    "clf = xgb.XGBClassifier(learning_rate = 0.6, \n",
    "                        min_child_weight = 1,\n",
    "                        gamma = 4, \n",
    "                        n_estimators = 250,\n",
    "                        subsample = 0.9,\n",
    "                        objective = 'multi:softmax',\n",
    "                        reg_lambda = 1)\n",
    "\n",
    "clf.fit(scaled_X_train, y_train, sample_weight=classes_weights)\n",
    "training_preds = clf.predict(scaled_X_train)\n",
    "val_preds = clf.predict(scaled_X_test)\n",
    "training_accuracy = accuracy_score(y_train, training_preds)\n",
    "val_accuracy = accuracy_score(y_test, val_preds)\n",
    "\n",
    "print(\"Training Accuracy: {:.4}%\".format(training_accuracy * 100))\n",
    "print(\"Validation accuracy: {:.4}%\".format(val_accuracy * 100))\n",
    "\n",
    "# Training Accuracy: 81.52%\n",
    "# Validation accuracy: 74.03%"
   ]
  },
  {
   "cell_type": "code",
   "execution_count": 524,
   "metadata": {},
   "outputs": [
    {
     "name": "stdout",
     "output_type": "stream",
     "text": [
      "Fitting 3 folds for each of 36 candidates, totalling 108 fits\n"
     ]
    },
    {
     "name": "stderr",
     "output_type": "stream",
     "text": [
      "[Parallel(n_jobs=-1)]: Using backend LokyBackend with 4 concurrent workers.\n",
      "[Parallel(n_jobs=-1)]: Done   1 tasks      | elapsed:  1.7min\n",
      "[Parallel(n_jobs=-1)]: Done   2 tasks      | elapsed:  1.7min\n",
      "[Parallel(n_jobs=-1)]: Done   3 tasks      | elapsed:  1.7min\n",
      "[Parallel(n_jobs=-1)]: Done   4 tasks      | elapsed:  1.7min\n",
      "[Parallel(n_jobs=-1)]: Done   5 tasks      | elapsed:  3.2min\n",
      "[Parallel(n_jobs=-1)]: Done   6 tasks      | elapsed:  3.2min\n",
      "[Parallel(n_jobs=-1)]: Done   7 tasks      | elapsed:  3.2min\n",
      "[Parallel(n_jobs=-1)]: Done   8 tasks      | elapsed:  3.2min\n",
      "[Parallel(n_jobs=-1)]: Done   9 tasks      | elapsed:  4.7min\n",
      "[Parallel(n_jobs=-1)]: Done  10 tasks      | elapsed:  5.5min\n",
      "[Parallel(n_jobs=-1)]: Done  11 tasks      | elapsed:  5.5min\n",
      "[Parallel(n_jobs=-1)]: Done  12 tasks      | elapsed:  5.5min\n",
      "[Parallel(n_jobs=-1)]: Done  13 tasks      | elapsed:  7.0min\n",
      "[Parallel(n_jobs=-1)]: Done  14 tasks      | elapsed:  7.7min\n",
      "[Parallel(n_jobs=-1)]: Done  15 tasks      | elapsed:  7.8min\n",
      "[Parallel(n_jobs=-1)]: Done  16 tasks      | elapsed:  7.8min\n",
      "[Parallel(n_jobs=-1)]: Done  17 tasks      | elapsed:  9.3min\n",
      "[Parallel(n_jobs=-1)]: Done  18 tasks      | elapsed: 10.0min\n",
      "[Parallel(n_jobs=-1)]: Done  19 tasks      | elapsed: 11.5min\n",
      "[Parallel(n_jobs=-1)]: Done  20 tasks      | elapsed: 11.5min\n",
      "[Parallel(n_jobs=-1)]: Done  21 tasks      | elapsed: 13.0min\n",
      "[Parallel(n_jobs=-1)]: Done  22 tasks      | elapsed: 13.8min\n",
      "[Parallel(n_jobs=-1)]: Done  23 tasks      | elapsed: 15.3min\n",
      "[Parallel(n_jobs=-1)]: Done  24 tasks      | elapsed: 15.3min\n",
      "[Parallel(n_jobs=-1)]: Done  25 tasks      | elapsed: 16.8min\n",
      "[Parallel(n_jobs=-1)]: Done  26 tasks      | elapsed: 16.8min\n",
      "[Parallel(n_jobs=-1)]: Done  27 tasks      | elapsed: 17.6min\n",
      "[Parallel(n_jobs=-1)]: Done  28 tasks      | elapsed: 18.3min\n",
      "[Parallel(n_jobs=-1)]: Done  29 tasks      | elapsed: 18.3min\n",
      "[Parallel(n_jobs=-1)]: Done  30 tasks      | elapsed: 19.0min\n",
      "[Parallel(n_jobs=-1)]: Done  31 tasks      | elapsed: 19.1min\n",
      "[Parallel(n_jobs=-1)]: Done  32 tasks      | elapsed: 19.9min\n",
      "[Parallel(n_jobs=-1)]: Done  33 tasks      | elapsed: 19.9min\n",
      "[Parallel(n_jobs=-1)]: Done  34 tasks      | elapsed: 20.5min\n",
      "[Parallel(n_jobs=-1)]: Done  35 tasks      | elapsed: 20.6min\n",
      "[Parallel(n_jobs=-1)]: Done  36 tasks      | elapsed: 21.4min\n",
      "[Parallel(n_jobs=-1)]: Done  37 tasks      | elapsed: 22.2min\n",
      "[Parallel(n_jobs=-1)]: Done  38 tasks      | elapsed: 22.8min\n",
      "[Parallel(n_jobs=-1)]: Done  39 tasks      | elapsed: 22.9min\n",
      "[Parallel(n_jobs=-1)]: Done  40 tasks      | elapsed: 23.7min\n",
      "[Parallel(n_jobs=-1)]: Done  41 tasks      | elapsed: 24.4min\n",
      "[Parallel(n_jobs=-1)]: Done  42 tasks      | elapsed: 25.1min\n",
      "[Parallel(n_jobs=-1)]: Done  43 tasks      | elapsed: 25.2min\n",
      "[Parallel(n_jobs=-1)]: Done  44 tasks      | elapsed: 26.0min\n",
      "[Parallel(n_jobs=-1)]: Done  45 tasks      | elapsed: 26.7min\n",
      "[Parallel(n_jobs=-1)]: Done  46 tasks      | elapsed: 28.8min\n",
      "[Parallel(n_jobs=-1)]: Done  47 tasks      | elapsed: 28.9min\n",
      "[Parallel(n_jobs=-1)]: Done  48 tasks      | elapsed: 29.7min\n",
      "[Parallel(n_jobs=-1)]: Done  49 tasks      | elapsed: 30.4min\n",
      "[Parallel(n_jobs=-1)]: Done  50 tasks      | elapsed: 32.5min\n",
      "[Parallel(n_jobs=-1)]: Done  51 tasks      | elapsed: 32.6min\n",
      "[Parallel(n_jobs=-1)]: Done  52 tasks      | elapsed: 33.4min\n",
      "[Parallel(n_jobs=-1)]: Done  53 tasks      | elapsed: 34.1min\n",
      "[Parallel(n_jobs=-1)]: Done  54 tasks      | elapsed: 34.2min\n",
      "[Parallel(n_jobs=-1)]: Done  55 tasks      | elapsed: 35.0min\n",
      "[Parallel(n_jobs=-1)]: Done  56 tasks      | elapsed: 35.7min\n",
      "[Parallel(n_jobs=-1)]: Done  57 tasks      | elapsed: 35.8min\n",
      "[Parallel(n_jobs=-1)]: Done  58 tasks      | elapsed: 36.4min\n",
      "[Parallel(n_jobs=-1)]: Done  59 tasks      | elapsed: 36.6min\n",
      "[Parallel(n_jobs=-1)]: Done  60 tasks      | elapsed: 37.3min\n",
      "[Parallel(n_jobs=-1)]: Done  61 tasks      | elapsed: 37.3min\n",
      "[Parallel(n_jobs=-1)]: Done  62 tasks      | elapsed: 37.9min\n",
      "[Parallel(n_jobs=-1)]: Done  63 tasks      | elapsed: 38.1min\n",
      "[Parallel(n_jobs=-1)]: Done  64 tasks      | elapsed: 39.5min\n",
      "[Parallel(n_jobs=-1)]: Done  65 tasks      | elapsed: 39.5min\n",
      "[Parallel(n_jobs=-1)]: Done  66 tasks      | elapsed: 40.2min\n",
      "[Parallel(n_jobs=-1)]: Done  67 tasks      | elapsed: 40.4min\n",
      "[Parallel(n_jobs=-1)]: Done  68 tasks      | elapsed: 41.8min\n",
      "[Parallel(n_jobs=-1)]: Done  69 tasks      | elapsed: 41.8min\n",
      "[Parallel(n_jobs=-1)]: Done  70 tasks      | elapsed: 42.5min\n",
      "[Parallel(n_jobs=-1)]: Done  71 tasks      | elapsed: 42.7min\n",
      "[Parallel(n_jobs=-1)]: Done  72 tasks      | elapsed: 44.0min\n",
      "[Parallel(n_jobs=-1)]: Done  73 tasks      | elapsed: 45.6min\n",
      "[Parallel(n_jobs=-1)]: Done  74 tasks      | elapsed: 46.2min\n",
      "[Parallel(n_jobs=-1)]: Done  75 tasks      | elapsed: 46.4min\n",
      "[Parallel(n_jobs=-1)]: Done  76 tasks      | elapsed: 47.8min\n",
      "[Parallel(n_jobs=-1)]: Done  77 tasks      | elapsed: 49.3min\n",
      "[Parallel(n_jobs=-1)]: Done  78 tasks      | elapsed: 50.0min\n",
      "[Parallel(n_jobs=-1)]: Done  79 tasks      | elapsed: 50.2min\n",
      "[Parallel(n_jobs=-1)]: Done  80 tasks      | elapsed: 51.5min\n",
      "[Parallel(n_jobs=-1)]: Done  81 tasks      | elapsed: 51.6min\n",
      "[Parallel(n_jobs=-1)]: Done  82 tasks      | elapsed: 51.7min\n",
      "[Parallel(n_jobs=-1)]: Done  83 tasks      | elapsed: 53.0min\n",
      "[Parallel(n_jobs=-1)]: Done  84 tasks      | elapsed: 53.1min\n",
      "[Parallel(n_jobs=-1)]: Done  85 tasks      | elapsed: 53.2min\n",
      "[Parallel(n_jobs=-1)]: Done  86 tasks      | elapsed: 53.2min\n",
      "[Parallel(n_jobs=-1)]: Done  87 tasks      | elapsed: 54.5min\n",
      "[Parallel(n_jobs=-1)]: Done  88 tasks      | elapsed: 54.7min\n",
      "[Parallel(n_jobs=-1)]: Done  89 tasks      | elapsed: 54.7min\n",
      "[Parallel(n_jobs=-1)]: Done  90 tasks      | elapsed: 54.8min\n",
      "[Parallel(n_jobs=-1)]: Done  91 tasks      | elapsed: 56.8min\n",
      "[Parallel(n_jobs=-1)]: Done  92 tasks      | elapsed: 56.9min\n",
      "[Parallel(n_jobs=-1)]: Done  93 tasks      | elapsed: 57.0min\n",
      "[Parallel(n_jobs=-1)]: Done  94 tasks      | elapsed: 57.1min\n",
      "[Parallel(n_jobs=-1)]: Done  95 tasks      | elapsed: 59.0min\n",
      "[Parallel(n_jobs=-1)]: Done  96 tasks      | elapsed: 59.2min\n",
      "[Parallel(n_jobs=-1)]: Done  97 tasks      | elapsed: 59.2min\n",
      "[Parallel(n_jobs=-1)]: Done  98 tasks      | elapsed: 59.3min\n",
      "[Parallel(n_jobs=-1)]: Done  99 tasks      | elapsed: 61.4min\n",
      "[Parallel(n_jobs=-1)]: Done 100 tasks      | elapsed: 62.9min\n",
      "[Parallel(n_jobs=-1)]: Done 101 tasks      | elapsed: 63.0min\n",
      "[Parallel(n_jobs=-1)]: Done 108 out of 108 | elapsed: 69.0min finished\n"
     ]
    },
    {
     "name": "stdout",
     "output_type": "stream",
     "text": [
      "Grid Search found the following optimal parameters: \n",
      "gamma: 4\n",
      "learning_rate: 0.6\n",
      "min_child_weight: 1\n",
      "n_estimators: 250\n",
      "objective: 'multi:softmax'\n",
      "reg_lambda: 1\n",
      "subsample: 0.9\n",
      "\n",
      "Training Accuracy: 86.62%\n",
      "Validation accuracy: 71.12%\n"
     ]
    }
   ],
   "source": [
    "param_grid = {'learning_rate': [0.3, 0.4, 0.5, 0.6], \n",
    "            'min_child_weight': [1], \n",
    "            'n_estimators': [100, 150, 250],\n",
    "            'reg_lambda': [1],\n",
    "            'gamma': [4],\n",
    "            'subsample': [0.8, 0.9, 1],\n",
    "            'objective': ['multi:softmax']}\n",
    "\n",
    "# scoring = {'AUC': 'roc_auc', 'Accuracy': make_scorer(accuracy_score)}\n",
    "\n",
    "clf = xgb.XGBClassifier()\n",
    "grid_clf = GridSearchCV(clf, \n",
    "                        param_grid,  \n",
    "                        cv=3, \n",
    "                        n_jobs=-1,\n",
    "                        scoring='accuracy', \n",
    "                        return_train_score=True,\n",
    "                        verbose=12)\n",
    "\n",
    "grid_clf.fit(scaled_X_train, y_train)\n",
    "\n",
    "best_parameters = grid_clf.best_params_\n",
    "\n",
    "print(\"Grid Search found the following optimal parameters: \")\n",
    "for param_name in sorted(best_parameters.keys()):\n",
    "    print(\"%s: %r\" % (param_name, best_parameters[param_name]))\n",
    "\n",
    "training_preds = grid_clf.predict(scaled_X_train)\n",
    "val_preds = grid_clf.predict(scaled_X_test)\n",
    "training_accuracy = accuracy_score(y_train, training_preds)\n",
    "val_accuracy = accuracy_score(y_test, val_preds)\n",
    "\n",
    "print(\"\")\n",
    "print(\"Training Accuracy: {:.4}%\".format(training_accuracy * 100))\n",
    "print(\"Validation accuracy: {:.4}%\".format(val_accuracy * 100))"
   ]
  },
  {
   "cell_type": "code",
   "execution_count": 525,
   "metadata": {},
   "outputs": [],
   "source": [
    "results = pd.DataFrame(grid_clf.cv_results_)\n",
    "results.to_csv('grid_search_results.csv', index=False)"
   ]
  },
  {
   "cell_type": "code",
   "execution_count": null,
   "metadata": {},
   "outputs": [],
   "source": [
    "# Shallow trees are expected to have poor performance because they capture few details of the problem \n",
    "# and are generally referred to as weak learners. Deeper trees generally capture too many details of the problem \n",
    "# and overfit the training dataset, limiting the ability to make good predictions on new data."
   ]
  },
  {
   "cell_type": "code",
   "execution_count": 526,
   "metadata": {},
   "outputs": [
    {
     "name": "stdout",
     "output_type": "stream",
     "text": [
      "[[4513 1085   80]\n",
      " [2088 5861  149]\n",
      " [ 389  497  188]]\n"
     ]
    }
   ],
   "source": [
    "cm = confusion_matrix(y_test, val_preds)\n",
    "print(cm)"
   ]
  },
  {
   "cell_type": "code",
   "execution_count": 528,
   "metadata": {},
   "outputs": [
    {
     "data": {
      "text/html": [
       "<div>\n",
       "<style scoped>\n",
       "    .dataframe tbody tr th:only-of-type {\n",
       "        vertical-align: middle;\n",
       "    }\n",
       "\n",
       "    .dataframe tbody tr th {\n",
       "        vertical-align: top;\n",
       "    }\n",
       "\n",
       "    .dataframe thead th {\n",
       "        text-align: right;\n",
       "    }\n",
       "</style>\n",
       "<table border=\"1\" class=\"dataframe\">\n",
       "  <thead>\n",
       "    <tr style=\"text-align: right;\">\n",
       "      <th></th>\n",
       "      <th>34</th>\n",
       "    </tr>\n",
       "  </thead>\n",
       "  <tbody>\n",
       "    <tr>\n",
       "      <th>mean_fit_time</th>\n",
       "      <td>227.73</td>\n",
       "    </tr>\n",
       "    <tr>\n",
       "      <th>std_fit_time</th>\n",
       "      <td>0.30361</td>\n",
       "    </tr>\n",
       "    <tr>\n",
       "      <th>mean_score_time</th>\n",
       "      <td>0.46696</td>\n",
       "    </tr>\n",
       "    <tr>\n",
       "      <th>std_score_time</th>\n",
       "      <td>0.0226949</td>\n",
       "    </tr>\n",
       "    <tr>\n",
       "      <th>param_gamma</th>\n",
       "      <td>4</td>\n",
       "    </tr>\n",
       "    <tr>\n",
       "      <th>param_learning_rate</th>\n",
       "      <td>0.6</td>\n",
       "    </tr>\n",
       "    <tr>\n",
       "      <th>param_min_child_weight</th>\n",
       "      <td>1</td>\n",
       "    </tr>\n",
       "    <tr>\n",
       "      <th>param_n_estimators</th>\n",
       "      <td>250</td>\n",
       "    </tr>\n",
       "    <tr>\n",
       "      <th>param_objective</th>\n",
       "      <td>multi:softmax</td>\n",
       "    </tr>\n",
       "    <tr>\n",
       "      <th>param_reg_lambda</th>\n",
       "      <td>1</td>\n",
       "    </tr>\n",
       "    <tr>\n",
       "      <th>param_subsample</th>\n",
       "      <td>0.9</td>\n",
       "    </tr>\n",
       "    <tr>\n",
       "      <th>params</th>\n",
       "      <td>{'gamma': 4, 'learning_rate': 0.6, 'min_child_...</td>\n",
       "    </tr>\n",
       "    <tr>\n",
       "      <th>split0_test_score</th>\n",
       "      <td>0.850572</td>\n",
       "    </tr>\n",
       "    <tr>\n",
       "      <th>split1_test_score</th>\n",
       "      <td>0.849832</td>\n",
       "    </tr>\n",
       "    <tr>\n",
       "      <th>split2_test_score</th>\n",
       "      <td>0.841616</td>\n",
       "    </tr>\n",
       "    <tr>\n",
       "      <th>mean_test_score</th>\n",
       "      <td>0.84734</td>\n",
       "    </tr>\n",
       "    <tr>\n",
       "      <th>std_test_score</th>\n",
       "      <td>0.00405869</td>\n",
       "    </tr>\n",
       "    <tr>\n",
       "      <th>rank_test_score</th>\n",
       "      <td>1</td>\n",
       "    </tr>\n",
       "    <tr>\n",
       "      <th>split0_train_score</th>\n",
       "      <td>0.865387</td>\n",
       "    </tr>\n",
       "    <tr>\n",
       "      <th>split1_train_score</th>\n",
       "      <td>0.86963</td>\n",
       "    </tr>\n",
       "    <tr>\n",
       "      <th>split2_train_score</th>\n",
       "      <td>0.87165</td>\n",
       "    </tr>\n",
       "    <tr>\n",
       "      <th>mean_train_score</th>\n",
       "      <td>0.868889</td>\n",
       "    </tr>\n",
       "    <tr>\n",
       "      <th>std_train_score</th>\n",
       "      <td>0.00260981</td>\n",
       "    </tr>\n",
       "  </tbody>\n",
       "</table>\n",
       "</div>"
      ],
      "text/plain": [
       "                                                                       34\n",
       "mean_fit_time                                                      227.73\n",
       "std_fit_time                                                      0.30361\n",
       "mean_score_time                                                   0.46696\n",
       "std_score_time                                                  0.0226949\n",
       "param_gamma                                                             4\n",
       "param_learning_rate                                                   0.6\n",
       "param_min_child_weight                                                  1\n",
       "param_n_estimators                                                    250\n",
       "param_objective                                             multi:softmax\n",
       "param_reg_lambda                                                        1\n",
       "param_subsample                                                       0.9\n",
       "params                  {'gamma': 4, 'learning_rate': 0.6, 'min_child_...\n",
       "split0_test_score                                                0.850572\n",
       "split1_test_score                                                0.849832\n",
       "split2_test_score                                                0.841616\n",
       "mean_test_score                                                   0.84734\n",
       "std_test_score                                                 0.00405869\n",
       "rank_test_score                                                         1\n",
       "split0_train_score                                               0.865387\n",
       "split1_train_score                                                0.86963\n",
       "split2_train_score                                                0.87165\n",
       "mean_train_score                                                 0.868889\n",
       "std_train_score                                                0.00260981"
      ]
     },
     "execution_count": 528,
     "metadata": {},
     "output_type": "execute_result"
    }
   ],
   "source": [
    "results[results['rank_test_score']==1].T"
   ]
  },
  {
   "cell_type": "code",
   "execution_count": 529,
   "metadata": {},
   "outputs": [
    {
     "data": {
      "image/png": "[encoded data removed]",
      "text/plain": [
       "<Figure size 1440x360 with 7 Axes>"
      ]
     },
     "metadata": {
      "needs_background": "light"
     },
     "output_type": "display_data"
    }
   ],
   "source": [
    "plot_search_results(grid_clf)"
   ]
  },
  {
   "cell_type": "code",
   "execution_count": 530,
   "metadata": {},
   "outputs": [
    {
     "data": {
      "text/plain": [
       "<matplotlib.axes._subplots.AxesSubplot at 0x7ff5fd97c550>"
      ]
     },
     "execution_count": 530,
     "metadata": {},
     "output_type": "execute_result"
    },
    {
     "data": {
      "image/png": "[encoded data removed]",
      "text/plain": [
       "<Figure size 432x288 with 1 Axes>"
      ]
     },
     "metadata": {},
     "output_type": "display_data"
    }
   ],
   "source": [
    "sns.set_style(\"whitegrid\")\n",
    "sns.lineplot(data=results, x=\"param_learning_rate\", y=\"mean_test_score\", hue='param_n_estimators', err_style=\"bars\", ci=95\n",
    ")\n",
    "sns.lineplot(data=results, x=\"param_learning_rate\", y=\"mean_train_score\", hue='param_n_estimators', err_style=\"bars\", ci=95\n",
    ")"
   ]
  },
  {
   "cell_type": "code",
   "execution_count": 531,
   "metadata": {},
   "outputs": [
    {
     "data": {
      "text/plain": [
       "<matplotlib.axes._subplots.AxesSubplot at 0x7ff603972748>"
      ]
     },
     "execution_count": 531,
     "metadata": {},
     "output_type": "execute_result"
    },
    {
     "data": {
      "image/png": "[encoded data removed]",
      "text/plain": [
       "<Figure size 432x288 with 1 Axes>"
      ]
     },
     "metadata": {},
     "output_type": "display_data"
    }
   ],
   "source": [
    "sns.lineplot(data=results, x=list(results.index), y=\"mean_test_score\")\n",
    "sns.lineplot(data=results, x=list(results.index), y=\"mean_train_score\")"
   ]
  },
  {
   "cell_type": "code",
   "execution_count": 532,
   "metadata": {},
   "outputs": [
    {
     "data": {
      "text/plain": [
       "<matplotlib.axes._subplots.AxesSubplot at 0x7ff6a5db0470>"
      ]
     },
     "execution_count": 532,
     "metadata": {},
     "output_type": "execute_result"
    },
    {
     "data": {
      "image/png": "[encoded data removed]",
      "text/plain": [
       "<Figure size 432x288 with 1 Axes>"
      ]
     },
     "metadata": {},
     "output_type": "display_data"
    }
   ],
   "source": [
    "sns.lineplot(data=results, x=list(results.index), y=\"mean_fit_time\")"
   ]
  },
  {
   "cell_type": "code",
   "execution_count": 533,
   "metadata": {},
   "outputs": [
    {
     "data": {
      "text/plain": [
       "<matplotlib.axes._subplots.AxesSubplot at 0x7ff631cfc7b8>"
      ]
     },
     "execution_count": 533,
     "metadata": {},
     "output_type": "execute_result"
    },
    {
     "data": {
      "image/png": "[encoded data removed]",
      "text/plain": [
       "<Figure size 432x288 with 1 Axes>"
      ]
     },
     "metadata": {},
     "output_type": "display_data"
    }
   ],
   "source": [
    "sns.lineplot(data=results, x=list(results.index), y=\"mean_test_score\", hue='param_learning_rate')\n",
    "sns.lineplot(data=results, x=list(results.index), y=\"mean_train_score\", hue='param_learning_rate')"
   ]
  },
  {
   "cell_type": "code",
   "execution_count": 534,
   "metadata": {},
   "outputs": [
    {
     "data": {
      "text/plain": [
       "<matplotlib.axes._subplots.AxesSubplot at 0x7ff66d441518>"
      ]
     },
     "execution_count": 534,
     "metadata": {},
     "output_type": "execute_result"
    },
    {
     "data": {
      "image/png": "[encoded data removed]",
      "text/plain": [
       "<Figure size 432x288 with 1 Axes>"
      ]
     },
     "metadata": {},
     "output_type": "display_data"
    }
   ],
   "source": [
    "sns.lineplot(data=results, x=list(results.index), y=\"mean_test_score\", hue='param_subsample')\n",
    "sns.lineplot(data=results, x=list(results.index), y=\"mean_train_score\", hue='param_subsample')"
   ]
  },
  {
   "cell_type": "code",
   "execution_count": 535,
   "metadata": {},
   "outputs": [
    {
     "data": {
      "text/plain": [
       "<matplotlib.axes._subplots.AxesSubplot at 0x7ff6683d38d0>"
      ]
     },
     "execution_count": 535,
     "metadata": {},
     "output_type": "execute_result"
    },
    {
     "data": {
      "image/png": "[encoded data removed]",
      "text/plain": [
       "<Figure size 432x288 with 1 Axes>"
      ]
     },
     "metadata": {},
     "output_type": "display_data"
    }
   ],
   "source": [
    "sns.lineplot(data=results, x=list(results.index), y=\"mean_test_score\", hue='param_n_estimators')\n",
    "sns.lineplot(data=results, x=list(results.index), y=\"mean_train_score\", hue='param_n_estimators')\n"
   ]
  },
  {
   "cell_type": "code",
   "execution_count": 536,
   "metadata": {},
   "outputs": [
    {
     "name": "stdout",
     "output_type": "stream",
     "text": [
      "              precision    recall  f1-score   support\n",
      "\n",
      "           0       0.65      0.79      0.71      5678\n",
      "           1       0.79      0.72      0.75      8098\n",
      "           2       0.45      0.18      0.25      1074\n",
      "\n",
      "    accuracy                           0.71     14850\n",
      "   macro avg       0.63      0.56      0.57     14850\n",
      "weighted avg       0.71      0.71      0.70     14850\n",
      "\n"
     ]
    }
   ],
   "source": [
    "print(classification_report(y_test, val_preds))"
   ]
  },
  {
   "cell_type": "markdown",
   "metadata": {},
   "source": [
    "## IN PROGRESS- Predict Test Set Values"
   ]
  },
  {
   "cell_type": "code",
   "execution_count": 39,
   "metadata": {},
   "outputs": [],
   "source": [
    "# Load and split preprocessed data into X and y\n",
    "with open('X_submission.pickle', 'rb') as f:\n",
    "    X = pickle.load(f)"
   ]
  },
  {
   "cell_type": "code",
   "execution_count": 40,
   "metadata": {},
   "outputs": [],
   "source": [
    "# Replace all NaN elements with 0s.\n",
    "X.fillna(0, inplace=True)"
   ]
  },
  {
   "cell_type": "code",
   "execution_count": 41,
   "metadata": {},
   "outputs": [],
   "source": [
    "X[['region_code', 'district_code']] = X[['region_code', 'district_code']].astype(str)\n",
    "X.drop(columns=['date_recorded'], inplace=True)"
   ]
  },
  {
   "cell_type": "code",
   "execution_count": 42,
   "metadata": {},
   "outputs": [],
   "source": [
    "X_obj=X.select_dtypes('object')\n",
    "X=X.select_dtypes(exclude='object')"
   ]
  },
  {
   "cell_type": "code",
   "execution_count": 43,
   "metadata": {},
   "outputs": [
    {
     "data": {
      "text/html": [
       "<div>\n",
       "<style scoped>\n",
       "    .dataframe tbody tr th:only-of-type {\n",
       "        vertical-align: middle;\n",
       "    }\n",
       "\n",
       "    .dataframe tbody tr th {\n",
       "        vertical-align: top;\n",
       "    }\n",
       "\n",
       "    .dataframe thead th {\n",
       "        text-align: right;\n",
       "    }\n",
       "</style>\n",
       "<table border=\"1\" class=\"dataframe\">\n",
       "  <thead>\n",
       "    <tr style=\"text-align: right;\">\n",
       "      <th></th>\n",
       "      <th>amount_tsh</th>\n",
       "      <th>gps_height</th>\n",
       "      <th>longitude</th>\n",
       "      <th>latitude</th>\n",
       "      <th>num_private</th>\n",
       "      <th>population</th>\n",
       "      <th>construction_year</th>\n",
       "    </tr>\n",
       "  </thead>\n",
       "  <tbody>\n",
       "    <tr>\n",
       "      <th>0</th>\n",
       "      <td>0.0</td>\n",
       "      <td>1996</td>\n",
       "      <td>35.290799</td>\n",
       "      <td>-4.059696</td>\n",
       "      <td>0</td>\n",
       "      <td>321</td>\n",
       "      <td>2012</td>\n",
       "    </tr>\n",
       "    <tr>\n",
       "      <th>1</th>\n",
       "      <td>0.0</td>\n",
       "      <td>1569</td>\n",
       "      <td>36.656709</td>\n",
       "      <td>-3.309214</td>\n",
       "      <td>0</td>\n",
       "      <td>300</td>\n",
       "      <td>2000</td>\n",
       "    </tr>\n",
       "    <tr>\n",
       "      <th>2</th>\n",
       "      <td>0.0</td>\n",
       "      <td>1567</td>\n",
       "      <td>34.767863</td>\n",
       "      <td>-5.004344</td>\n",
       "      <td>0</td>\n",
       "      <td>500</td>\n",
       "      <td>2010</td>\n",
       "    </tr>\n",
       "    <tr>\n",
       "      <th>3</th>\n",
       "      <td>0.0</td>\n",
       "      <td>267</td>\n",
       "      <td>38.058046</td>\n",
       "      <td>-9.418672</td>\n",
       "      <td>0</td>\n",
       "      <td>250</td>\n",
       "      <td>1987</td>\n",
       "    </tr>\n",
       "    <tr>\n",
       "      <th>4</th>\n",
       "      <td>500.0</td>\n",
       "      <td>1260</td>\n",
       "      <td>35.006123</td>\n",
       "      <td>-10.950412</td>\n",
       "      <td>0</td>\n",
       "      <td>60</td>\n",
       "      <td>2000</td>\n",
       "    </tr>\n",
       "  </tbody>\n",
       "</table>\n",
       "</div>"
      ],
      "text/plain": [
       "   amount_tsh  gps_height  longitude   latitude  num_private  population  \\\n",
       "0         0.0        1996  35.290799  -4.059696            0         321   \n",
       "1         0.0        1569  36.656709  -3.309214            0         300   \n",
       "2         0.0        1567  34.767863  -5.004344            0         500   \n",
       "3         0.0         267  38.058046  -9.418672            0         250   \n",
       "4       500.0        1260  35.006123 -10.950412            0          60   \n",
       "\n",
       "   construction_year  \n",
       "0               2012  \n",
       "1               2000  \n",
       "2               2010  \n",
       "3               1987  \n",
       "4               2000  "
      ]
     },
     "execution_count": 43,
     "metadata": {},
     "output_type": "execute_result"
    }
   ],
   "source": [
    "X.head()"
   ]
  },
  {
   "cell_type": "code",
   "execution_count": 44,
   "metadata": {},
   "outputs": [],
   "source": [
    "# Scale data\n",
    "scaler = StandardScaler()\n",
    "\n",
    "scaled_features = scaler.fit_transform(X)\n",
    "\n",
    "# Transform test sets\n",
    "scaled_X = pd.DataFrame(scaled_features, index=X.index, columns=X.columns)"
   ]
  },
  {
   "cell_type": "code",
   "execution_count": 45,
   "metadata": {},
   "outputs": [
    {
     "data": {
      "text/html": [
       "<div>\n",
       "<style scoped>\n",
       "    .dataframe tbody tr th:only-of-type {\n",
       "        vertical-align: middle;\n",
       "    }\n",
       "\n",
       "    .dataframe tbody tr th {\n",
       "        vertical-align: top;\n",
       "    }\n",
       "\n",
       "    .dataframe thead th {\n",
       "        text-align: right;\n",
       "    }\n",
       "</style>\n",
       "<table border=\"1\" class=\"dataframe\">\n",
       "  <thead>\n",
       "    <tr style=\"text-align: right;\">\n",
       "      <th></th>\n",
       "      <th>amount_tsh</th>\n",
       "      <th>gps_height</th>\n",
       "      <th>longitude</th>\n",
       "      <th>latitude</th>\n",
       "      <th>num_private</th>\n",
       "      <th>population</th>\n",
       "      <th>construction_year</th>\n",
       "    </tr>\n",
       "  </thead>\n",
       "  <tbody>\n",
       "    <tr>\n",
       "      <th>0</th>\n",
       "      <td>-0.128571</td>\n",
       "      <td>1.939784</td>\n",
       "      <td>0.073435</td>\n",
       "      <td>0.612347</td>\n",
       "      <td>-0.050821</td>\n",
       "      <td>0.291567</td>\n",
       "      <td>0.756161</td>\n",
       "    </tr>\n",
       "    <tr>\n",
       "      <th>1</th>\n",
       "      <td>-0.128571</td>\n",
       "      <td>1.322052</td>\n",
       "      <td>0.599971</td>\n",
       "      <td>0.879566</td>\n",
       "      <td>-0.050821</td>\n",
       "      <td>0.246837</td>\n",
       "      <td>0.743598</td>\n",
       "    </tr>\n",
       "    <tr>\n",
       "      <th>2</th>\n",
       "      <td>-0.128571</td>\n",
       "      <td>1.319159</td>\n",
       "      <td>-0.128149</td>\n",
       "      <td>0.275994</td>\n",
       "      <td>-0.050821</td>\n",
       "      <td>0.672837</td>\n",
       "      <td>0.754067</td>\n",
       "    </tr>\n",
       "    <tr>\n",
       "      <th>3</th>\n",
       "      <td>-0.128571</td>\n",
       "      <td>-0.561525</td>\n",
       "      <td>1.140164</td>\n",
       "      <td>-1.295783</td>\n",
       "      <td>-0.050821</td>\n",
       "      <td>0.140337</td>\n",
       "      <td>0.729989</td>\n",
       "    </tr>\n",
       "    <tr>\n",
       "      <th>4</th>\n",
       "      <td>0.070562</td>\n",
       "      <td>0.875028</td>\n",
       "      <td>-0.036303</td>\n",
       "      <td>-1.841177</td>\n",
       "      <td>-0.050821</td>\n",
       "      <td>-0.264363</td>\n",
       "      <td>0.743598</td>\n",
       "    </tr>\n",
       "    <tr>\n",
       "      <th>...</th>\n",
       "      <td>...</td>\n",
       "      <td>...</td>\n",
       "      <td>...</td>\n",
       "      <td>...</td>\n",
       "      <td>...</td>\n",
       "      <td>...</td>\n",
       "      <td>...</td>\n",
       "    </tr>\n",
       "    <tr>\n",
       "      <th>14845</th>\n",
       "      <td>-0.128571</td>\n",
       "      <td>-0.898602</td>\n",
       "      <td>1.446478</td>\n",
       "      <td>-0.286050</td>\n",
       "      <td>-0.050821</td>\n",
       "      <td>-0.349563</td>\n",
       "      <td>0.731036</td>\n",
       "    </tr>\n",
       "    <tr>\n",
       "      <th>14846</th>\n",
       "      <td>0.269695</td>\n",
       "      <td>-0.947789</td>\n",
       "      <td>0.906402</td>\n",
       "      <td>0.152766</td>\n",
       "      <td>-0.050821</td>\n",
       "      <td>5.912637</td>\n",
       "      <td>0.737317</td>\n",
       "    </tr>\n",
       "    <tr>\n",
       "      <th>14847</th>\n",
       "      <td>-0.128571</td>\n",
       "      <td>1.187511</td>\n",
       "      <td>-0.138965</td>\n",
       "      <td>0.425098</td>\n",
       "      <td>-0.050821</td>\n",
       "      <td>0.033837</td>\n",
       "      <td>0.754067</td>\n",
       "    </tr>\n",
       "    <tr>\n",
       "      <th>14848</th>\n",
       "      <td>-0.128571</td>\n",
       "      <td>0.495998</td>\n",
       "      <td>0.128147</td>\n",
       "      <td>-1.710768</td>\n",
       "      <td>-0.050821</td>\n",
       "      <td>-0.072663</td>\n",
       "      <td>0.753020</td>\n",
       "    </tr>\n",
       "    <tr>\n",
       "      <th>14849</th>\n",
       "      <td>-0.128571</td>\n",
       "      <td>-0.251936</td>\n",
       "      <td>-0.129231</td>\n",
       "      <td>-1.939308</td>\n",
       "      <td>-0.050821</td>\n",
       "      <td>-0.306963</td>\n",
       "      <td>0.751973</td>\n",
       "    </tr>\n",
       "  </tbody>\n",
       "</table>\n",
       "<p>14850 rows × 7 columns</p>\n",
       "</div>"
      ],
      "text/plain": [
       "       amount_tsh  gps_height  longitude  latitude  num_private  population  \\\n",
       "0       -0.128571    1.939784   0.073435  0.612347    -0.050821    0.291567   \n",
       "1       -0.128571    1.322052   0.599971  0.879566    -0.050821    0.246837   \n",
       "2       -0.128571    1.319159  -0.128149  0.275994    -0.050821    0.672837   \n",
       "3       -0.128571   -0.561525   1.140164 -1.295783    -0.050821    0.140337   \n",
       "4        0.070562    0.875028  -0.036303 -1.841177    -0.050821   -0.264363   \n",
       "...           ...         ...        ...       ...          ...         ...   \n",
       "14845   -0.128571   -0.898602   1.446478 -0.286050    -0.050821   -0.349563   \n",
       "14846    0.269695   -0.947789   0.906402  0.152766    -0.050821    5.912637   \n",
       "14847   -0.128571    1.187511  -0.138965  0.425098    -0.050821    0.033837   \n",
       "14848   -0.128571    0.495998   0.128147 -1.710768    -0.050821   -0.072663   \n",
       "14849   -0.128571   -0.251936  -0.129231 -1.939308    -0.050821   -0.306963   \n",
       "\n",
       "       construction_year  \n",
       "0               0.756161  \n",
       "1               0.743598  \n",
       "2               0.754067  \n",
       "3               0.729989  \n",
       "4               0.743598  \n",
       "...                  ...  \n",
       "14845           0.731036  \n",
       "14846           0.737317  \n",
       "14847           0.754067  \n",
       "14848           0.753020  \n",
       "14849           0.751973  \n",
       "\n",
       "[14850 rows x 7 columns]"
      ]
     },
     "execution_count": 45,
     "metadata": {},
     "output_type": "execute_result"
    }
   ],
   "source": [
    "scaled_X"
   ]
  },
  {
   "cell_type": "code",
   "execution_count": 46,
   "metadata": {},
   "outputs": [],
   "source": [
    "X = pd.concat([X_obj, scaled_X], axis=1)"
   ]
  },
  {
   "cell_type": "code",
   "execution_count": 47,
   "metadata": {},
   "outputs": [
    {
     "data": {
      "text/html": [
       "<div>\n",
       "<style scoped>\n",
       "    .dataframe tbody tr th:only-of-type {\n",
       "        vertical-align: middle;\n",
       "    }\n",
       "\n",
       "    .dataframe tbody tr th {\n",
       "        vertical-align: top;\n",
       "    }\n",
       "\n",
       "    .dataframe thead th {\n",
       "        text-align: right;\n",
       "    }\n",
       "</style>\n",
       "<table border=\"1\" class=\"dataframe\">\n",
       "  <thead>\n",
       "    <tr style=\"text-align: right;\">\n",
       "      <th></th>\n",
       "      <th>funder</th>\n",
       "      <th>installer</th>\n",
       "      <th>wpt_name</th>\n",
       "      <th>basin</th>\n",
       "      <th>subvillage</th>\n",
       "      <th>region</th>\n",
       "      <th>region_code</th>\n",
       "      <th>district_code</th>\n",
       "      <th>lga</th>\n",
       "      <th>ward</th>\n",
       "      <th>...</th>\n",
       "      <th>source_class</th>\n",
       "      <th>waterpoint_type</th>\n",
       "      <th>waterpoint_type_group</th>\n",
       "      <th>amount_tsh</th>\n",
       "      <th>gps_height</th>\n",
       "      <th>longitude</th>\n",
       "      <th>latitude</th>\n",
       "      <th>num_private</th>\n",
       "      <th>population</th>\n",
       "      <th>construction_year</th>\n",
       "    </tr>\n",
       "  </thead>\n",
       "  <tbody>\n",
       "    <tr>\n",
       "      <th>0</th>\n",
       "      <td>Dmdd</td>\n",
       "      <td>DMDD</td>\n",
       "      <td>Dinamu Secondary School</td>\n",
       "      <td>Internal</td>\n",
       "      <td>Magoma</td>\n",
       "      <td>Manyara</td>\n",
       "      <td>21</td>\n",
       "      <td>3</td>\n",
       "      <td>Mbulu</td>\n",
       "      <td>Bashay</td>\n",
       "      <td>...</td>\n",
       "      <td>surface</td>\n",
       "      <td>other</td>\n",
       "      <td>other</td>\n",
       "      <td>-0.128571</td>\n",
       "      <td>1.939784</td>\n",
       "      <td>0.073435</td>\n",
       "      <td>0.612347</td>\n",
       "      <td>-0.050821</td>\n",
       "      <td>0.291567</td>\n",
       "      <td>0.756161</td>\n",
       "    </tr>\n",
       "    <tr>\n",
       "      <th>1</th>\n",
       "      <td>Government Of Tanzania</td>\n",
       "      <td>DWE</td>\n",
       "      <td>Kimnyak</td>\n",
       "      <td>Pangani</td>\n",
       "      <td>Kimnyak</td>\n",
       "      <td>Arusha</td>\n",
       "      <td>2</td>\n",
       "      <td>2</td>\n",
       "      <td>Arusha Rural</td>\n",
       "      <td>Kimnyaki</td>\n",
       "      <td>...</td>\n",
       "      <td>groundwater</td>\n",
       "      <td>communal standpipe</td>\n",
       "      <td>communal standpipe</td>\n",
       "      <td>-0.128571</td>\n",
       "      <td>1.322052</td>\n",
       "      <td>0.599971</td>\n",
       "      <td>0.879566</td>\n",
       "      <td>-0.050821</td>\n",
       "      <td>0.246837</td>\n",
       "      <td>0.743598</td>\n",
       "    </tr>\n",
       "    <tr>\n",
       "      <th>2</th>\n",
       "      <td>0</td>\n",
       "      <td>0</td>\n",
       "      <td>Puma Secondary</td>\n",
       "      <td>Internal</td>\n",
       "      <td>Msatu</td>\n",
       "      <td>Singida</td>\n",
       "      <td>13</td>\n",
       "      <td>2</td>\n",
       "      <td>Singida Rural</td>\n",
       "      <td>Puma</td>\n",
       "      <td>...</td>\n",
       "      <td>surface</td>\n",
       "      <td>other</td>\n",
       "      <td>other</td>\n",
       "      <td>-0.128571</td>\n",
       "      <td>1.319159</td>\n",
       "      <td>-0.128149</td>\n",
       "      <td>0.275994</td>\n",
       "      <td>-0.050821</td>\n",
       "      <td>0.672837</td>\n",
       "      <td>0.754067</td>\n",
       "    </tr>\n",
       "    <tr>\n",
       "      <th>3</th>\n",
       "      <td>Finn Water</td>\n",
       "      <td>FINN WATER</td>\n",
       "      <td>Kwa Mzee Pange</td>\n",
       "      <td>Ruvuma / Southern Coast</td>\n",
       "      <td>Kipindimbi</td>\n",
       "      <td>Lindi</td>\n",
       "      <td>80</td>\n",
       "      <td>43</td>\n",
       "      <td>Liwale</td>\n",
       "      <td>Mkutano</td>\n",
       "      <td>...</td>\n",
       "      <td>groundwater</td>\n",
       "      <td>other</td>\n",
       "      <td>other</td>\n",
       "      <td>-0.128571</td>\n",
       "      <td>-0.561525</td>\n",
       "      <td>1.140164</td>\n",
       "      <td>-1.295783</td>\n",
       "      <td>-0.050821</td>\n",
       "      <td>0.140337</td>\n",
       "      <td>0.729989</td>\n",
       "    </tr>\n",
       "    <tr>\n",
       "      <th>4</th>\n",
       "      <td>Bruder</td>\n",
       "      <td>BRUDER</td>\n",
       "      <td>Kwa Mzee Turuka</td>\n",
       "      <td>Ruvuma / Southern Coast</td>\n",
       "      <td>Losonga</td>\n",
       "      <td>Ruvuma</td>\n",
       "      <td>10</td>\n",
       "      <td>3</td>\n",
       "      <td>Mbinga</td>\n",
       "      <td>Mbinga Urban</td>\n",
       "      <td>...</td>\n",
       "      <td>groundwater</td>\n",
       "      <td>communal standpipe</td>\n",
       "      <td>communal standpipe</td>\n",
       "      <td>0.070562</td>\n",
       "      <td>0.875028</td>\n",
       "      <td>-0.036303</td>\n",
       "      <td>-1.841177</td>\n",
       "      <td>-0.050821</td>\n",
       "      <td>-0.264363</td>\n",
       "      <td>0.743598</td>\n",
       "    </tr>\n",
       "  </tbody>\n",
       "</table>\n",
       "<p>5 rows × 38 columns</p>\n",
       "</div>"
      ],
      "text/plain": [
       "                   funder   installer                 wpt_name  \\\n",
       "0                    Dmdd        DMDD  Dinamu Secondary School   \n",
       "1  Government Of Tanzania         DWE                  Kimnyak   \n",
       "2                       0           0           Puma Secondary   \n",
       "3              Finn Water  FINN WATER           Kwa Mzee Pange   \n",
       "4                  Bruder      BRUDER          Kwa Mzee Turuka   \n",
       "\n",
       "                     basin  subvillage   region region_code district_code  \\\n",
       "0                 Internal      Magoma  Manyara          21             3   \n",
       "1                  Pangani     Kimnyak   Arusha           2             2   \n",
       "2                 Internal       Msatu  Singida          13             2   \n",
       "3  Ruvuma / Southern Coast  Kipindimbi    Lindi          80            43   \n",
       "4  Ruvuma / Southern Coast     Losonga   Ruvuma          10             3   \n",
       "\n",
       "             lga          ward  ... source_class     waterpoint_type  \\\n",
       "0          Mbulu        Bashay  ...      surface               other   \n",
       "1   Arusha Rural      Kimnyaki  ...  groundwater  communal standpipe   \n",
       "2  Singida Rural          Puma  ...      surface               other   \n",
       "3         Liwale       Mkutano  ...  groundwater               other   \n",
       "4         Mbinga  Mbinga Urban  ...  groundwater  communal standpipe   \n",
       "\n",
       "  waterpoint_type_group amount_tsh gps_height longitude  latitude num_private  \\\n",
       "0                 other  -0.128571   1.939784  0.073435  0.612347   -0.050821   \n",
       "1    communal standpipe  -0.128571   1.322052  0.599971  0.879566   -0.050821   \n",
       "2                 other  -0.128571   1.319159 -0.128149  0.275994   -0.050821   \n",
       "3                 other  -0.128571  -0.561525  1.140164 -1.295783   -0.050821   \n",
       "4    communal standpipe   0.070562   0.875028 -0.036303 -1.841177   -0.050821   \n",
       "\n",
       "  population construction_year  \n",
       "0   0.291567          0.756161  \n",
       "1   0.246837          0.743598  \n",
       "2   0.672837          0.754067  \n",
       "3   0.140337          0.729989  \n",
       "4  -0.264363          0.743598  \n",
       "\n",
       "[5 rows x 38 columns]"
      ]
     },
     "execution_count": 47,
     "metadata": {},
     "output_type": "execute_result"
    }
   ],
   "source": [
    "X.head()"
   ]
  },
  {
   "cell_type": "code",
   "execution_count": 35,
   "metadata": {},
   "outputs": [],
   "source": [
    "y_test = grid_clf.predict(X) # test with encoded unseen data "
   ]
  },
  {
   "cell_type": "code",
   "execution_count": null,
   "metadata": {},
   "outputs": [],
   "source": []
  }
 ],
 "metadata": {
  "kernelspec": {
   "display_name": "learn-env",
   "language": "python",
   "name": "learn-env"
  },
  "language_info": {
   "codemirror_mode": {
    "name": "ipython",
    "version": 3
   },
   "file_extension": ".py",
   "mimetype": "text/x-python",
   "name": "python",
   "nbconvert_exporter": "python",
   "pygments_lexer": "ipython3",
   "version": "3.6.9"
  }
 },
 "nbformat": 4,
 "nbformat_minor": 4
}
